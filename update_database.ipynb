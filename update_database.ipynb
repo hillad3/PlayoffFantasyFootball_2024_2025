{
 "cells": [
  {
   "cell_type": "code",
   "execution_count": 2,
   "metadata": {},
   "outputs": [],
   "source": [
    "import psycopg\n",
    "from sqlalchemy import create_engine\n",
    "import pandas as pd\n",
    "import os\n",
    "\n",
    "credentials = {\n",
    "    \"host\": os.getenv(\"DB_HOST\"),\n",
    "    \"dbname\": os.getenv(\"DB_NAME\"),\n",
    "    \"port\": int(os.getenv(\"DB_PORT\")),\n",
    "    \"user\": os.getenv(\"DB_ADMIN\"),\n",
    "    \"password\": os.getenv(\"DB_PW\"),\n",
    "}\n",
    "\n",
    "# Import data with fantasy scores already tallied\n",
    "df1 = pd.read_parquet(\n",
    "    \"./Data/Scored NFL Fantasy Rosters for 2024-2025 as of 2024-12-20 1342.parquet\",\n",
    "    engine=\"pyarrow\",\n",
    ")"
   ]
  },
  {
   "cell_type": "code",
   "execution_count": 2,
   "metadata": {},
   "outputs": [
    {
     "name": "stdout",
     "output_type": "stream",
     "text": [
      "nfl_stats\n",
      "wordle_answers\n",
      "website_word_list\n",
      "five_letter_scrabble_words\n"
     ]
    }
   ],
   "source": [
    "# get a list of tables in db with psycopg\n",
    "with psycopg.connect(**credentials) as conn:\n",
    "    with conn.cursor() as cur:\n",
    "        cur.execute(\n",
    "            \"\"\"\n",
    "            SELECT table_name\n",
    "            FROM information_schema.tables\n",
    "            WHERE table_schema = 'public'\n",
    "            \"\"\"\n",
    "        )\n",
    "        table_names = cur.fetchall()\n",
    "        [print(table[0]) for table in table_names]"
   ]
  },
  {
   "cell_type": "code",
   "execution_count": null,
   "metadata": {},
   "outputs": [],
   "source": [
    "# change a table name with psycopg\n",
    "with psycopg.connect(**credentials) as conn:\n",
    "    with conn.cursor() as cur:\n",
    "        cur.execute(\n",
    "            \"\"\"\n",
    "            ALTER TABLE IF EXISTS wordle\n",
    "            RENAME TO website_word_list\n",
    "            \"\"\"\n",
    "        )"
   ]
  },
  {
   "cell_type": "code",
   "execution_count": 3,
   "metadata": {},
   "outputs": [],
   "source": [
    "# Create nfl_stats table with psycopg; Unpack credentials with double astericks\n",
    "with psycopg.connect(**credentials) as conn:\n",
    "    with conn.cursor() as cur:\n",
    "        cur.execute(\n",
    "            \"\"\"\n",
    "            CREATE TABLE IF NOT EXISTS nfl_stats (\n",
    "                roster_index INT,\n",
    "                position_code TEXT,\n",
    "                fantasy_owner TEXT,\n",
    "                fantasy_team TEXT,\n",
    "                season_type TEXT,\n",
    "                week INT,\n",
    "                team_abbr TEXT,\n",
    "                team_conf TEXT,\n",
    "                team_division TEXT,\n",
    "                position_type TEXT,\n",
    "                position TEXT,\n",
    "                player_id TEXT,\n",
    "                player_name TEXT,\n",
    "                lookup_string TEXT,\n",
    "                subsequently_traded TEXT,\n",
    "                stat_label TEXT,\n",
    "                football_value INT,\n",
    "                fantasy_points INT\n",
    "            );\n",
    "            \"\"\"\n",
    "        )"
   ]
  },
  {
   "cell_type": "code",
   "execution_count": 7,
   "metadata": {},
   "outputs": [],
   "source": [
    "# Query table with psycopg\n",
    "with psycopg.connect(**credentials) as conn:\n",
    "    with conn.cursor() as cur:\n",
    "        cur.execute(\n",
    "            \"\"\"\n",
    "            SELECT *\n",
    "            FROM nfl_stats as n\n",
    "            -- WHERE \"Word\" != 'AALII'\n",
    "            \"\"\"\n",
    "        )\n",
    "        tmp = cur.fetchall()\n",
    "        df2 = pd.DataFrame(tmp, columns=[desc[0] for desc in cur.description])\n",
    "        # df2['Index'] = pd.to_numeric(df2['Index'], errors='coerce').astype('Int64')"
   ]
  },
  {
   "cell_type": "code",
   "execution_count": 10,
   "metadata": {},
   "outputs": [],
   "source": [
    "# Drop a table with psycopg\n",
    "with psycopg.connect(**credentials) as conn:\n",
    "    with conn.cursor() as cur:\n",
    "        cur.execute(\n",
    "            \"\"\"\n",
    "            DROP TABLE nfl_stats;\n",
    "            \"\"\"\n",
    "        )"
   ]
  },
  {
   "cell_type": "code",
   "execution_count": 10,
   "metadata": {},
   "outputs": [],
   "source": [
    "# Use Psycopg to Insert into an existing table.\n",
    "# This approach takes a long time with a lot of transactions so it is not recommended\n",
    "with psycopg.connect(**credentials) as conn:\n",
    "    with conn.cursor() as cur:\n",
    "        for row in range(0,len(df1.iloc[1:10])):  # restrict transactions\n",
    "            cur.execute(\n",
    "                \"\"\"\n",
    "                INSERT INTO nfl_stats \n",
    "                    (roster_index,\n",
    "                    position_code,\n",
    "                    fantasy_owner,\n",
    "                    fantasy_team,\n",
    "                    season_type,\n",
    "                    week,\n",
    "                    team_abbr,\n",
    "                    team_conf,\n",
    "                    team_division,\n",
    "                    position_type,\n",
    "                    position,\n",
    "                    player_id,\n",
    "                    player_name,\n",
    "                    lookup_string,\n",
    "                    subsequently_traded,\n",
    "                    stat_label,\n",
    "                    football_value,\n",
    "                    fantasy_points) VALUES (%s,%s,%s,%s,%s,%s,%s,%s,%s,%s,%s,%s,%s,%s,%s,%s,%s,%s);\n",
    "                \"\"\",\n",
    "                (df1['roster_index'].iloc[row],\n",
    "                df1['position_code'].iloc[row],\n",
    "                df1['fantasy_owner'].iloc[row],\n",
    "                df1['fantasy_team'].iloc[row],\n",
    "                df1['season_type'].iloc[row],\n",
    "                df1['week'].iloc[row],\n",
    "                df1['team_abbr'].iloc[row],\n",
    "                df1['team_conf'].iloc[row],\n",
    "                df1['team_division'].iloc[row],\n",
    "                df1['position_type'].iloc[row],\n",
    "                df1['position'].iloc[row],\n",
    "                df1['player_id'].iloc[row],\n",
    "                df1['player_name'].iloc[row],\n",
    "                df1['lookup_string'].iloc[row],\n",
    "                df1['subsequently_traded'].iloc[row],\n",
    "                df1['stat_label'].iloc[row],\n",
    "                df1['football_value'].iloc[row],\n",
    "                df1['fantasy_points'].iloc[row])\n",
    "            )"
   ]
  },
  {
   "cell_type": "code",
   "execution_count": 6,
   "metadata": {},
   "outputs": [
    {
     "data": {
      "text/plain": [
       "-1"
      ]
     },
     "execution_count": 6,
     "metadata": {},
     "output_type": "execute_result"
    }
   ],
   "source": [
    "# Use SQLAlchemy package to upload to the PostgreSQL\n",
    "engine = create_engine(\"postgresql+psycopg://\" + credentials['user'] +  ':' + credentials['password'] + '@' + credentials['host'] + ':' + str(credentials['port']) + '/' + credentials['dbname'])\n",
    "\n",
    "df1.to_sql('nfl_stats', engine, if_exists='replace', index=False)"
   ]
  }
 ],
 "metadata": {
  "kernelspec": {
   "display_name": "venv",
   "language": "python",
   "name": "python3"
  },
  "language_info": {
   "codemirror_mode": {
    "name": "ipython",
    "version": 3
   },
   "file_extension": ".py",
   "mimetype": "text/x-python",
   "name": "python",
   "nbconvert_exporter": "python",
   "pygments_lexer": "ipython3",
   "version": "3.9.13"
  }
 },
 "nbformat": 4,
 "nbformat_minor": 2
}
